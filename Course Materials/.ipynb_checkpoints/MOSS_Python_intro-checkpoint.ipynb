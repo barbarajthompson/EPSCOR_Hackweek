{
  "cells": [
    {
      "cell_type": "markdown",
      "metadata": {
        "id": "vNZr3TFfYmGs"
      },
      "source": [
        "<font color=\"white\">.</font> | <font color=\"white\">.</font> | <font color=\"white\">.</font>\n",
        "-- | -- | --\n",
        "![CfHA](https://raw.githubusercontent.com/HelioAnalytics/MOSS_python/master/images/cfha_logo.png) | <h1><font size=\"+3\">MOSS Python Tutorial Series</font></h1> | ![NASA](https://raw.githubusercontent.com/HelioAnalytics/MOSS_python/master/images/nccs_logo.png)\n",
        "\n",
        "---\n",
        "\n",
        "<center><h1>\n",
        "    <font color=\"red\">Introduction to Python and Code Sharing</font>  \n",
        "</h1></center>"
      ]
    },
    {
      "cell_type": "markdown",
      "metadata": {
        "id": "FOlu3dX2YmG2"
      },
      "source": [
        "### <font color='red'> Python code files </font>\n",
        "\n",
        "1. If you have Python running on your computer, you can create a new ASCII/text document named `my_first_python_file.py` and enter the following text:\n",
        "\n",
        "```python\n",
        "#!/usr/bin/env python\n",
        "print('Hello World!')\n",
        "```\n",
        " \n",
        "2. Save the document and then in your terminal/Anaconda prompt, go to the directory containing the newly created file.\n",
        "\n",
        "\n",
        "3. From the terminal/Anaconda prompt, type:\n",
        "\n",
        "      `python my_first_python_file.py`\n",
        "\n",
        "\n",
        "4. You should see the output on the screen:\n",
        "\n",
        "![](https://raw.githubusercontent.com/HelioAnalytics/MOSS_python/master/images/HelloWorld.png)\n",
        "\n"
      ]
    },
    {
      "cell_type": "markdown",
      "source": [
        "***However, this course does not require you to have Python installed.***  This is a \"Jupyter notebook\" on Google Colab. You can interact with this notebook and practice commands.  \n",
        "\n",
        "There are two types of cells: Code  and Text.  Text cells use markup (text formatting) language and can also include images, like the output image above.  Below is a cell that has someone else's name in it.  Double click on it and make it your own name.  When you're finished, hit Shift + Return to exit.\n",
        "\n",
        "---\n",
        "\n",
        "\n"
      ],
      "metadata": {
        "id": "k9QDfbZXlEEH"
      }
    },
    {
      "cell_type": "markdown",
      "source": [
        "My name is Tyler Durden."
      ],
      "metadata": {
        "id": "IlNsvf5SqAut"
      }
    },
    {
      "cell_type": "markdown",
      "metadata": {
        "id": "_JepxiuOYmG3"
      },
      "source": [
        "### <font color='red'> Jupyter Notebook </font>\n",
        "\n",
        "---\n",
        "\n",
        "Jupyter notebooks are an interactive form of Python code (and other types of code, though python is most common). The Python script above had the extension .py, while Jupyter Python notebooks have extension .ipynb  \n",
        "\n",
        "There are several advantages to coding with Jupyter notebooks: \n",
        "\n",
        "* They are a useful hybrid of the interactive terminal and the self-contained script. It is a document format that allows executable code, formatted text, graphics, and even interactive features to be combined into a single document. \n",
        "* Though the notebook began as a Python-only format, it has since been made compatible with a large number of programming languages. \n",
        "* The notebook is useful both as a development environment, and as a means of sharing work via rich computational and data-driven narratives that mix together code, figures, data, and text.\n",
        "\n",
        "The Jupyter notebook's hybrid of code, output display, and annotate make it ideal for collaboration and sharing.  \n"
      ]
    },
    {
      "cell_type": "markdown",
      "source": [
        "So far all of the cells in this notebook have been text.  If you want to add another text cell, click + Text in the menu above.  A new cell will appear and you can add whatever you like.  The formatting menu contains common markup commands (like boldface, indenting, bullets, etc.).  When you are finished editing you can hit Shift + Enter. \n",
        "\n",
        "\n"
      ],
      "metadata": {
        "id": "4jCf7DBv2xHz"
      }
    },
    {
      "cell_type": "markdown",
      "source": [
        "#### <font color='red'> Jupyter Notebook </font>\n"
      ],
      "metadata": {
        "id": "7eGQDEO23Yx2"
      }
    },
    {
      "cell_type": "code",
      "source": [
        ""
      ],
      "metadata": {
        "id": "go-ws5qh2u61"
      },
      "execution_count": null,
      "outputs": []
    },
    {
      "cell_type": "markdown",
      "source": [
        ""
      ],
      "metadata": {
        "id": "WiMfT6bZ2vYF"
      }
    },
    {
      "cell_type": "markdown",
      "metadata": {
        "id": "mXrQtuu9YmG3"
      },
      "source": [
        "**Sample Session**\n",
        "\n",
        "1. Open your terminal/Anaconda Prompt and type:\n",
        "\n",
        "`jupyter notebook`\n",
        " \n",
        "2. This directs you to a web browser and you can navigate to an already existing notebook or create one (right side menu New -> Python 3).\n",
        "\n",
        "3. This will open up a new Untitled notebook where you can directly input Python code, Markup formatted text, or have raw text.\n",
        "\n",
        "4. Now type:\n",
        "\n",
        "`print('Hello world!')`\n",
        "\n",
        "5. Press `Shift+Enter`, `Cntrl+Enter` or click `Cells -> Run Cells` or use the `Play` button near the top of the page.\n",
        "\n",
        "6. You should see the output on the screen. \n",
        "\n",
        "7. Exit via closing the browser windows and stopping the server running in the terminal/command prompt (most likely with a Cntrl+C)."
      ]
    },
    {
      "cell_type": "markdown",
      "source": [
        "# New Section"
      ],
      "metadata": {
        "id": "qTMa82ikw643"
      }
    },
    {
      "cell_type": "markdown",
      "metadata": {
        "id": "dTUvaBrfYmG5"
      },
      "source": [
        "## Links for Windows Users\n",
        "\n",
        "- <a href=\"https://docs.python.org/3/faq/windows.html\">Python on Windows FAQ</a>\n",
        "- <a href=\"https://docs.microsoft.com/en-us/windows/python/beginners\"> Get started using Python on Windows for beginners</a>\n",
        "- <a href=\"https://helpdeskgeek.com/how-to/how-to-use-python-on-windows/\">How to Use Python on Windows</a>\n",
        "- <a href=\"https://www.jcchouinard.com/install-python-with-anaconda-on-windows/\">The 10-Step Guide To Install Python With Anaconda [On Windows]</a>"
      ]
    },
    {
      "cell_type": "code",
      "execution_count": null,
      "metadata": {
        "id": "0i3sfyRMYmG6"
      },
      "outputs": [],
      "source": [
        ""
      ]
    }
  ],
  "metadata": {
    "celltoolbar": "Slideshow",
    "kernelspec": {
      "display_name": "Python 3",
      "language": "python",
      "name": "python3"
    },
    "language_info": {
      "codemirror_mode": {
        "name": "ipython",
        "version": 3
      },
      "file_extension": ".py",
      "mimetype": "text/x-python",
      "name": "python",
      "nbconvert_exporter": "python",
      "pygments_lexer": "ipython3",
      "version": "3.7.3"
    },
    "colab": {
      "name": "MOSS_Python_intro.ipynb",
      "provenance": [],
      "toc_visible": true
    }
  },
  "nbformat": 4,
  "nbformat_minor": 0
}